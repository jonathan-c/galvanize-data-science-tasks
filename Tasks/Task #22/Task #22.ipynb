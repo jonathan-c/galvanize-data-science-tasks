{
 "cells": [
  {
   "cell_type": "code",
   "execution_count": 240,
   "metadata": {},
   "outputs": [],
   "source": [
    "import os\n",
    "import tarfile\n",
    "from six.moves import urllib\n",
    "import pandas as pd\n",
    "import numpy as np\n",
    "from math import log\n",
    "\n",
    "DOWNLOAD_ROOT = \"https://raw.githubusercontent.com/ageron/handson-ml/master/\"\n",
    "HOUSING_PATH = os.path.join(\"datasets\", \"housing\")\n",
    "HOUSING_URL = DOWNLOAD_ROOT + \"datasets/housing/housing.tgz\"\n",
    "def fetch_housing_data(housing_url=HOUSING_URL, housing_path=HOUSING_PATH):\n",
    "    if not os.path.isdir(housing_path):\n",
    "        os.makedirs(housing_path)\n",
    "    tgz_path = os.path.join(housing_path, \"housing.tgz\")\n",
    "    urllib.request.urlretrieve(housing_url, tgz_path)\n",
    "    housing_tgz = tarfile.open(tgz_path)\n",
    "    housing_tgz.extractall(path=housing_path)\n",
    "    housing_tgz.close()\n",
    "    \n",
    "def load_housing_data(housing_path=HOUSING_PATH):\n",
    "    csv_path = os.path.join(housing_path, \"housing.csv\")\n",
    "    return pd.read_csv(csv_path)\n",
    "fetch_housing_data()\n",
    "housing = load_housing_data()"
   ]
  },
  {
   "cell_type": "code",
   "execution_count": 241,
   "metadata": {},
   "outputs": [
    {
     "data": {
      "text/html": [
       "<div>\n",
       "<style>\n",
       "    .dataframe thead tr:only-child th {\n",
       "        text-align: right;\n",
       "    }\n",
       "\n",
       "    .dataframe thead th {\n",
       "        text-align: left;\n",
       "    }\n",
       "\n",
       "    .dataframe tbody tr th {\n",
       "        vertical-align: top;\n",
       "    }\n",
       "</style>\n",
       "<table border=\"1\" class=\"dataframe\">\n",
       "  <thead>\n",
       "    <tr style=\"text-align: right;\">\n",
       "      <th></th>\n",
       "      <th>longitude</th>\n",
       "      <th>latitude</th>\n",
       "      <th>housing_median_age</th>\n",
       "      <th>total_rooms</th>\n",
       "      <th>total_bedrooms</th>\n",
       "      <th>population</th>\n",
       "      <th>households</th>\n",
       "      <th>median_income</th>\n",
       "      <th>median_house_value</th>\n",
       "      <th>ocean_proximity</th>\n",
       "    </tr>\n",
       "  </thead>\n",
       "  <tbody>\n",
       "    <tr>\n",
       "      <th>0</th>\n",
       "      <td>-122.23</td>\n",
       "      <td>37.88</td>\n",
       "      <td>41.0</td>\n",
       "      <td>880.0</td>\n",
       "      <td>129.0</td>\n",
       "      <td>322.0</td>\n",
       "      <td>126.0</td>\n",
       "      <td>8.3252</td>\n",
       "      <td>452600.0</td>\n",
       "      <td>NEAR BAY</td>\n",
       "    </tr>\n",
       "    <tr>\n",
       "      <th>1</th>\n",
       "      <td>-122.22</td>\n",
       "      <td>37.86</td>\n",
       "      <td>21.0</td>\n",
       "      <td>7099.0</td>\n",
       "      <td>1106.0</td>\n",
       "      <td>2401.0</td>\n",
       "      <td>1138.0</td>\n",
       "      <td>8.3014</td>\n",
       "      <td>358500.0</td>\n",
       "      <td>NEAR BAY</td>\n",
       "    </tr>\n",
       "    <tr>\n",
       "      <th>2</th>\n",
       "      <td>-122.24</td>\n",
       "      <td>37.85</td>\n",
       "      <td>52.0</td>\n",
       "      <td>1467.0</td>\n",
       "      <td>190.0</td>\n",
       "      <td>496.0</td>\n",
       "      <td>177.0</td>\n",
       "      <td>7.2574</td>\n",
       "      <td>352100.0</td>\n",
       "      <td>NEAR BAY</td>\n",
       "    </tr>\n",
       "    <tr>\n",
       "      <th>3</th>\n",
       "      <td>-122.25</td>\n",
       "      <td>37.85</td>\n",
       "      <td>52.0</td>\n",
       "      <td>1274.0</td>\n",
       "      <td>235.0</td>\n",
       "      <td>558.0</td>\n",
       "      <td>219.0</td>\n",
       "      <td>5.6431</td>\n",
       "      <td>341300.0</td>\n",
       "      <td>NEAR BAY</td>\n",
       "    </tr>\n",
       "    <tr>\n",
       "      <th>4</th>\n",
       "      <td>-122.25</td>\n",
       "      <td>37.85</td>\n",
       "      <td>52.0</td>\n",
       "      <td>1627.0</td>\n",
       "      <td>280.0</td>\n",
       "      <td>565.0</td>\n",
       "      <td>259.0</td>\n",
       "      <td>3.8462</td>\n",
       "      <td>342200.0</td>\n",
       "      <td>NEAR BAY</td>\n",
       "    </tr>\n",
       "  </tbody>\n",
       "</table>\n",
       "</div>"
      ],
      "text/plain": [
       "   longitude  latitude  housing_median_age  total_rooms  total_bedrooms  \\\n",
       "0    -122.23     37.88                41.0        880.0           129.0   \n",
       "1    -122.22     37.86                21.0       7099.0          1106.0   \n",
       "2    -122.24     37.85                52.0       1467.0           190.0   \n",
       "3    -122.25     37.85                52.0       1274.0           235.0   \n",
       "4    -122.25     37.85                52.0       1627.0           280.0   \n",
       "\n",
       "   population  households  median_income  median_house_value ocean_proximity  \n",
       "0       322.0       126.0         8.3252            452600.0        NEAR BAY  \n",
       "1      2401.0      1138.0         8.3014            358500.0        NEAR BAY  \n",
       "2       496.0       177.0         7.2574            352100.0        NEAR BAY  \n",
       "3       558.0       219.0         5.6431            341300.0        NEAR BAY  \n",
       "4       565.0       259.0         3.8462            342200.0        NEAR BAY  "
      ]
     },
     "execution_count": 241,
     "metadata": {},
     "output_type": "execute_result"
    }
   ],
   "source": [
    "housing.head()"
   ]
  },
  {
   "cell_type": "code",
   "execution_count": 242,
   "metadata": {
    "collapsed": true
   },
   "outputs": [],
   "source": [
    "from sklearn.model_selection import train_test_split"
   ]
  },
  {
   "cell_type": "code",
   "execution_count": 243,
   "metadata": {},
   "outputs": [],
   "source": [
    "y = np.log(y[:])\n",
    "# log(y[:])\n",
    "# for row in y:\n",
    "#     y[row] = log(y).astype(float)\n",
    "\n",
    "# y = y.astype(float)\n",
    "    "
   ]
  },
  {
   "cell_type": "code",
   "execution_count": 244,
   "metadata": {
    "collapsed": true
   },
   "outputs": [],
   "source": [
    "y = housing['median_house_value']\n",
    "X = housing.drop('median_house_value', axis=1)\n",
    "#X['total_bedrooms'].fillna((X['total_bedrooms'].mean()), inplace=True) \n",
    "X_train, X_test, y_train, y_test = train_test_split(X, y, test_size=0.3, random_state=1)"
   ]
  },
  {
   "cell_type": "code",
   "execution_count": 245,
   "metadata": {},
   "outputs": [
    {
     "data": {
      "text/html": [
       "<div>\n",
       "<style>\n",
       "    .dataframe thead tr:only-child th {\n",
       "        text-align: right;\n",
       "    }\n",
       "\n",
       "    .dataframe thead th {\n",
       "        text-align: left;\n",
       "    }\n",
       "\n",
       "    .dataframe tbody tr th {\n",
       "        vertical-align: top;\n",
       "    }\n",
       "</style>\n",
       "<table border=\"1\" class=\"dataframe\">\n",
       "  <thead>\n",
       "    <tr style=\"text-align: right;\">\n",
       "      <th></th>\n",
       "      <th>longitude</th>\n",
       "      <th>latitude</th>\n",
       "      <th>housing_median_age</th>\n",
       "      <th>total_rooms</th>\n",
       "      <th>total_bedrooms</th>\n",
       "      <th>population</th>\n",
       "      <th>households</th>\n",
       "      <th>median_income</th>\n",
       "      <th>ocean_proximity</th>\n",
       "    </tr>\n",
       "  </thead>\n",
       "  <tbody>\n",
       "    <tr>\n",
       "      <th>5748</th>\n",
       "      <td>-118.27</td>\n",
       "      <td>34.16</td>\n",
       "      <td>15.0</td>\n",
       "      <td>5036.0</td>\n",
       "      <td>1299.0</td>\n",
       "      <td>3164.0</td>\n",
       "      <td>1175.0</td>\n",
       "      <td>2.9148</td>\n",
       "      <td>&lt;1H OCEAN</td>\n",
       "    </tr>\n",
       "    <tr>\n",
       "      <th>5592</th>\n",
       "      <td>-118.26</td>\n",
       "      <td>33.80</td>\n",
       "      <td>41.0</td>\n",
       "      <td>2004.0</td>\n",
       "      <td>481.0</td>\n",
       "      <td>1658.0</td>\n",
       "      <td>456.0</td>\n",
       "      <td>3.1779</td>\n",
       "      <td>&lt;1H OCEAN</td>\n",
       "    </tr>\n",
       "    <tr>\n",
       "      <th>2110</th>\n",
       "      <td>-119.75</td>\n",
       "      <td>36.75</td>\n",
       "      <td>49.0</td>\n",
       "      <td>2331.0</td>\n",
       "      <td>460.0</td>\n",
       "      <td>1290.0</td>\n",
       "      <td>477.0</td>\n",
       "      <td>2.5111</td>\n",
       "      <td>INLAND</td>\n",
       "    </tr>\n",
       "    <tr>\n",
       "      <th>13901</th>\n",
       "      <td>-116.56</td>\n",
       "      <td>34.06</td>\n",
       "      <td>15.0</td>\n",
       "      <td>6928.0</td>\n",
       "      <td>1529.0</td>\n",
       "      <td>2568.0</td>\n",
       "      <td>1075.0</td>\n",
       "      <td>2.5405</td>\n",
       "      <td>INLAND</td>\n",
       "    </tr>\n",
       "    <tr>\n",
       "      <th>18425</th>\n",
       "      <td>-121.83</td>\n",
       "      <td>37.26</td>\n",
       "      <td>7.0</td>\n",
       "      <td>3609.0</td>\n",
       "      <td>751.0</td>\n",
       "      <td>1739.0</td>\n",
       "      <td>682.0</td>\n",
       "      <td>4.5033</td>\n",
       "      <td>&lt;1H OCEAN</td>\n",
       "    </tr>\n",
       "  </tbody>\n",
       "</table>\n",
       "</div>"
      ],
      "text/plain": [
       "       longitude  latitude  housing_median_age  total_rooms  total_bedrooms  \\\n",
       "5748     -118.27     34.16                15.0       5036.0          1299.0   \n",
       "5592     -118.26     33.80                41.0       2004.0           481.0   \n",
       "2110     -119.75     36.75                49.0       2331.0           460.0   \n",
       "13901    -116.56     34.06                15.0       6928.0          1529.0   \n",
       "18425    -121.83     37.26                 7.0       3609.0           751.0   \n",
       "\n",
       "       population  households  median_income ocean_proximity  \n",
       "5748       3164.0      1175.0         2.9148       <1H OCEAN  \n",
       "5592       1658.0       456.0         3.1779       <1H OCEAN  \n",
       "2110       1290.0       477.0         2.5111          INLAND  \n",
       "13901      2568.0      1075.0         2.5405          INLAND  \n",
       "18425      1739.0       682.0         4.5033       <1H OCEAN  "
      ]
     },
     "execution_count": 245,
     "metadata": {},
     "output_type": "execute_result"
    }
   ],
   "source": [
    "X_train.head()"
   ]
  },
  {
   "cell_type": "code",
   "execution_count": 246,
   "metadata": {},
   "outputs": [
    {
     "name": "stderr",
     "output_type": "stream",
     "text": [
      "/anaconda3/lib/python3.6/site-packages/ipykernel_launcher.py:4: SettingWithCopyWarning: \n",
      "A value is trying to be set on a copy of a slice from a DataFrame.\n",
      "Try using .loc[row_indexer,col_indexer] = value instead\n",
      "\n",
      "See the caveats in the documentation: http://pandas.pydata.org/pandas-docs/stable/indexing.html#indexing-view-versus-copy\n",
      "  after removing the cwd from sys.path.\n"
     ]
    },
    {
     "data": {
      "text/html": [
       "<div>\n",
       "<style>\n",
       "    .dataframe thead tr:only-child th {\n",
       "        text-align: right;\n",
       "    }\n",
       "\n",
       "    .dataframe thead th {\n",
       "        text-align: left;\n",
       "    }\n",
       "\n",
       "    .dataframe tbody tr th {\n",
       "        vertical-align: top;\n",
       "    }\n",
       "</style>\n",
       "<table border=\"1\" class=\"dataframe\">\n",
       "  <thead>\n",
       "    <tr style=\"text-align: right;\">\n",
       "      <th></th>\n",
       "      <th>longitude</th>\n",
       "      <th>latitude</th>\n",
       "      <th>housing_median_age</th>\n",
       "      <th>total_rooms</th>\n",
       "      <th>total_bedrooms</th>\n",
       "      <th>population</th>\n",
       "      <th>households</th>\n",
       "      <th>median_income</th>\n",
       "      <th>ocean_proximity</th>\n",
       "      <th>ppl_per_household</th>\n",
       "    </tr>\n",
       "  </thead>\n",
       "  <tbody>\n",
       "    <tr>\n",
       "      <th>5748</th>\n",
       "      <td>-118.27</td>\n",
       "      <td>34.16</td>\n",
       "      <td>15.0</td>\n",
       "      <td>5036.0</td>\n",
       "      <td>1299.0</td>\n",
       "      <td>3164.0</td>\n",
       "      <td>1175.0</td>\n",
       "      <td>2.9148</td>\n",
       "      <td>&lt;1H OCEAN</td>\n",
       "      <td>2.692766</td>\n",
       "    </tr>\n",
       "    <tr>\n",
       "      <th>5592</th>\n",
       "      <td>-118.26</td>\n",
       "      <td>33.80</td>\n",
       "      <td>41.0</td>\n",
       "      <td>2004.0</td>\n",
       "      <td>481.0</td>\n",
       "      <td>1658.0</td>\n",
       "      <td>456.0</td>\n",
       "      <td>3.1779</td>\n",
       "      <td>&lt;1H OCEAN</td>\n",
       "      <td>3.635965</td>\n",
       "    </tr>\n",
       "    <tr>\n",
       "      <th>2110</th>\n",
       "      <td>-119.75</td>\n",
       "      <td>36.75</td>\n",
       "      <td>49.0</td>\n",
       "      <td>2331.0</td>\n",
       "      <td>460.0</td>\n",
       "      <td>1290.0</td>\n",
       "      <td>477.0</td>\n",
       "      <td>2.5111</td>\n",
       "      <td>INLAND</td>\n",
       "      <td>2.704403</td>\n",
       "    </tr>\n",
       "    <tr>\n",
       "      <th>13901</th>\n",
       "      <td>-116.56</td>\n",
       "      <td>34.06</td>\n",
       "      <td>15.0</td>\n",
       "      <td>6928.0</td>\n",
       "      <td>1529.0</td>\n",
       "      <td>2568.0</td>\n",
       "      <td>1075.0</td>\n",
       "      <td>2.5405</td>\n",
       "      <td>INLAND</td>\n",
       "      <td>2.388837</td>\n",
       "    </tr>\n",
       "    <tr>\n",
       "      <th>18425</th>\n",
       "      <td>-121.83</td>\n",
       "      <td>37.26</td>\n",
       "      <td>7.0</td>\n",
       "      <td>3609.0</td>\n",
       "      <td>751.0</td>\n",
       "      <td>1739.0</td>\n",
       "      <td>682.0</td>\n",
       "      <td>4.5033</td>\n",
       "      <td>&lt;1H OCEAN</td>\n",
       "      <td>2.549853</td>\n",
       "    </tr>\n",
       "  </tbody>\n",
       "</table>\n",
       "</div>"
      ],
      "text/plain": [
       "       longitude  latitude  housing_median_age  total_rooms  total_bedrooms  \\\n",
       "5748     -118.27     34.16                15.0       5036.0          1299.0   \n",
       "5592     -118.26     33.80                41.0       2004.0           481.0   \n",
       "2110     -119.75     36.75                49.0       2331.0           460.0   \n",
       "13901    -116.56     34.06                15.0       6928.0          1529.0   \n",
       "18425    -121.83     37.26                 7.0       3609.0           751.0   \n",
       "\n",
       "       population  households  median_income ocean_proximity  \\\n",
       "5748       3164.0      1175.0         2.9148       <1H OCEAN   \n",
       "5592       1658.0       456.0         3.1779       <1H OCEAN   \n",
       "2110       1290.0       477.0         2.5111          INLAND   \n",
       "13901      2568.0      1075.0         2.5405          INLAND   \n",
       "18425      1739.0       682.0         4.5033       <1H OCEAN   \n",
       "\n",
       "       ppl_per_household  \n",
       "5748            2.692766  \n",
       "5592            3.635965  \n",
       "2110            2.704403  \n",
       "13901           2.388837  \n",
       "18425           2.549853  "
      ]
     },
     "execution_count": 246,
     "metadata": {},
     "output_type": "execute_result"
    }
   ],
   "source": [
    "# Feature engineer people per household, improved my score by .5\n",
    "combine = [X_train, X_test]\n",
    "for dataset in combine:\n",
    "    dataset['ppl_per_household'] = (dataset['population']/dataset['households'])\n",
    "    \n",
    "X_train.head()"
   ]
  },
  {
   "cell_type": "code",
   "execution_count": 247,
   "metadata": {},
   "outputs": [
    {
     "data": {
      "text/plain": [
       "longitude             float64\n",
       "latitude              float64\n",
       "housing_median_age    float64\n",
       "total_rooms           float64\n",
       "total_bedrooms        float64\n",
       "population            float64\n",
       "households            float64\n",
       "median_income         float64\n",
       "ocean_proximity        object\n",
       "ppl_per_household     float64\n",
       "dtype: object"
      ]
     },
     "execution_count": 247,
     "metadata": {},
     "output_type": "execute_result"
    }
   ],
   "source": [
    "X_train.dtypes"
   ]
  },
  {
   "cell_type": "code",
   "execution_count": 248,
   "metadata": {},
   "outputs": [
    {
     "data": {
      "text/plain": [
       "(14448, 10)"
      ]
     },
     "execution_count": 248,
     "metadata": {},
     "output_type": "execute_result"
    }
   ],
   "source": [
    "X_train.shape"
   ]
  },
  {
   "cell_type": "code",
   "execution_count": 249,
   "metadata": {
    "collapsed": true
   },
   "outputs": [],
   "source": [
    "train_objs_num = len(X_train)\n",
    "dataset = pd.concat(objs=[X_train, X_test], axis=0)\n",
    "dataset = pd.get_dummies(data=dataset, columns=[\"ocean_proximity\"])\n",
    "X_train = dataset[:train_objs_num]\n",
    "X_test = dataset[train_objs_num:]"
   ]
  },
  {
   "cell_type": "code",
   "execution_count": 250,
   "metadata": {},
   "outputs": [
    {
     "data": {
      "text/plain": [
       "143"
      ]
     },
     "execution_count": 250,
     "metadata": {},
     "output_type": "execute_result"
    }
   ],
   "source": [
    "X_train['total_bedrooms'].isnull().sum()"
   ]
  },
  {
   "cell_type": "code",
   "execution_count": 251,
   "metadata": {},
   "outputs": [],
   "source": [
    "# Going to use a random forest model to impute the missing total bedrooms value"
   ]
  },
  {
   "cell_type": "code",
   "execution_count": 252,
   "metadata": {},
   "outputs": [
    {
     "data": {
      "text/plain": [
       "(14305, 14)"
      ]
     },
     "execution_count": 252,
     "metadata": {},
     "output_type": "execute_result"
    }
   ],
   "source": [
    "total_bedrooms = X_train[pd.notnull(X_train['total_bedrooms'])]\n",
    "total_bedrooms.shape"
   ]
  },
  {
   "cell_type": "code",
   "execution_count": 253,
   "metadata": {},
   "outputs": [],
   "source": [
    "y_total_bedrooms = total_bedrooms['total_bedrooms']\n",
    "X_total_bedrooms = total_bedrooms.drop('total_bedrooms', axis=1)"
   ]
  },
  {
   "cell_type": "code",
   "execution_count": 254,
   "metadata": {},
   "outputs": [
    {
     "data": {
      "text/plain": [
       "RandomForestRegressor(bootstrap=True, criterion='mse', max_depth=None,\n",
       "           max_features='auto', max_leaf_nodes=None,\n",
       "           min_impurity_decrease=0.0, min_impurity_split=None,\n",
       "           min_samples_leaf=1, min_samples_split=2,\n",
       "           min_weight_fraction_leaf=0.0, n_estimators=10, n_jobs=1,\n",
       "           oob_score=False, random_state=0, verbose=0, warm_start=False)"
      ]
     },
     "execution_count": 254,
     "metadata": {},
     "output_type": "execute_result"
    }
   ],
   "source": [
    "from sklearn.ensemble import RandomForestRegressor\n",
    "clf = RandomForestRegressor(random_state=0)\n",
    "clf.fit(X_total_bedrooms, y_total_bedrooms)"
   ]
  },
  {
   "cell_type": "code",
   "execution_count": 255,
   "metadata": {},
   "outputs": [
    {
     "data": {
      "text/plain": [
       "0"
      ]
     },
     "execution_count": 255,
     "metadata": {},
     "output_type": "execute_result"
    }
   ],
   "source": [
    "for index, row in X_train.iterrows():\n",
    "    if pd.isnull(row['total_bedrooms']):\n",
    "        X_train.set_value(index,'total_bedrooms', clf.predict(row.drop('total_bedrooms').values.reshape(1, -1)))\n",
    "        \n",
    "X_train['total_bedrooms'].isnull().sum()"
   ]
  },
  {
   "cell_type": "code",
   "execution_count": 256,
   "metadata": {},
   "outputs": [
    {
     "data": {
      "text/plain": [
       "64"
      ]
     },
     "execution_count": 256,
     "metadata": {},
     "output_type": "execute_result"
    }
   ],
   "source": [
    "X_test['total_bedrooms'].isnull().sum()"
   ]
  },
  {
   "cell_type": "code",
   "execution_count": 257,
   "metadata": {},
   "outputs": [
    {
     "data": {
      "text/plain": [
       "0"
      ]
     },
     "execution_count": 257,
     "metadata": {},
     "output_type": "execute_result"
    }
   ],
   "source": [
    "for index, row in X_test.iterrows():\n",
    "    if pd.isnull(row['total_bedrooms']):\n",
    "        X_test.set_value(index,'total_bedrooms', clf.predict(row.drop('total_bedrooms').values.reshape(1, -1)))\n",
    "        \n",
    "X_test['total_bedrooms'].isnull().sum()"
   ]
  },
  {
   "cell_type": "code",
   "execution_count": 258,
   "metadata": {},
   "outputs": [
    {
     "data": {
      "text/html": [
       "<div>\n",
       "<style>\n",
       "    .dataframe thead tr:only-child th {\n",
       "        text-align: right;\n",
       "    }\n",
       "\n",
       "    .dataframe thead th {\n",
       "        text-align: left;\n",
       "    }\n",
       "\n",
       "    .dataframe tbody tr th {\n",
       "        vertical-align: top;\n",
       "    }\n",
       "</style>\n",
       "<table border=\"1\" class=\"dataframe\">\n",
       "  <thead>\n",
       "    <tr style=\"text-align: right;\">\n",
       "      <th></th>\n",
       "      <th>longitude</th>\n",
       "      <th>latitude</th>\n",
       "      <th>housing_median_age</th>\n",
       "      <th>total_rooms</th>\n",
       "      <th>total_bedrooms</th>\n",
       "      <th>population</th>\n",
       "      <th>households</th>\n",
       "      <th>median_income</th>\n",
       "      <th>ppl_per_household</th>\n",
       "      <th>ocean_proximity_INLAND</th>\n",
       "      <th>br_per_household</th>\n",
       "      <th>rooms_per_household</th>\n",
       "    </tr>\n",
       "  </thead>\n",
       "  <tbody>\n",
       "    <tr>\n",
       "      <th>5748</th>\n",
       "      <td>-118.27</td>\n",
       "      <td>34.16</td>\n",
       "      <td>15.0</td>\n",
       "      <td>5036.0</td>\n",
       "      <td>1299.0</td>\n",
       "      <td>3164.0</td>\n",
       "      <td>1175.0</td>\n",
       "      <td>2.9148</td>\n",
       "      <td>2.692766</td>\n",
       "      <td>0</td>\n",
       "      <td>1.105532</td>\n",
       "      <td>4.285957</td>\n",
       "    </tr>\n",
       "    <tr>\n",
       "      <th>5592</th>\n",
       "      <td>-118.26</td>\n",
       "      <td>33.80</td>\n",
       "      <td>41.0</td>\n",
       "      <td>2004.0</td>\n",
       "      <td>481.0</td>\n",
       "      <td>1658.0</td>\n",
       "      <td>456.0</td>\n",
       "      <td>3.1779</td>\n",
       "      <td>3.635965</td>\n",
       "      <td>0</td>\n",
       "      <td>1.054825</td>\n",
       "      <td>4.394737</td>\n",
       "    </tr>\n",
       "    <tr>\n",
       "      <th>2110</th>\n",
       "      <td>-119.75</td>\n",
       "      <td>36.75</td>\n",
       "      <td>49.0</td>\n",
       "      <td>2331.0</td>\n",
       "      <td>460.0</td>\n",
       "      <td>1290.0</td>\n",
       "      <td>477.0</td>\n",
       "      <td>2.5111</td>\n",
       "      <td>2.704403</td>\n",
       "      <td>1</td>\n",
       "      <td>0.964361</td>\n",
       "      <td>4.886792</td>\n",
       "    </tr>\n",
       "    <tr>\n",
       "      <th>13901</th>\n",
       "      <td>-116.56</td>\n",
       "      <td>34.06</td>\n",
       "      <td>15.0</td>\n",
       "      <td>6928.0</td>\n",
       "      <td>1529.0</td>\n",
       "      <td>2568.0</td>\n",
       "      <td>1075.0</td>\n",
       "      <td>2.5405</td>\n",
       "      <td>2.388837</td>\n",
       "      <td>1</td>\n",
       "      <td>1.422326</td>\n",
       "      <td>6.444651</td>\n",
       "    </tr>\n",
       "    <tr>\n",
       "      <th>18425</th>\n",
       "      <td>-121.83</td>\n",
       "      <td>37.26</td>\n",
       "      <td>7.0</td>\n",
       "      <td>3609.0</td>\n",
       "      <td>751.0</td>\n",
       "      <td>1739.0</td>\n",
       "      <td>682.0</td>\n",
       "      <td>4.5033</td>\n",
       "      <td>2.549853</td>\n",
       "      <td>0</td>\n",
       "      <td>1.101173</td>\n",
       "      <td>5.291789</td>\n",
       "    </tr>\n",
       "  </tbody>\n",
       "</table>\n",
       "</div>"
      ],
      "text/plain": [
       "       longitude  latitude  housing_median_age  total_rooms  total_bedrooms  \\\n",
       "5748     -118.27     34.16                15.0       5036.0          1299.0   \n",
       "5592     -118.26     33.80                41.0       2004.0           481.0   \n",
       "2110     -119.75     36.75                49.0       2331.0           460.0   \n",
       "13901    -116.56     34.06                15.0       6928.0          1529.0   \n",
       "18425    -121.83     37.26                 7.0       3609.0           751.0   \n",
       "\n",
       "       population  households  median_income  ppl_per_household  \\\n",
       "5748       3164.0      1175.0         2.9148           2.692766   \n",
       "5592       1658.0       456.0         3.1779           3.635965   \n",
       "2110       1290.0       477.0         2.5111           2.704403   \n",
       "13901      2568.0      1075.0         2.5405           2.388837   \n",
       "18425      1739.0       682.0         4.5033           2.549853   \n",
       "\n",
       "       ocean_proximity_INLAND  br_per_household  rooms_per_household  \n",
       "5748                        0          1.105532             4.285957  \n",
       "5592                        0          1.054825             4.394737  \n",
       "2110                        1          0.964361             4.886792  \n",
       "13901                       1          1.422326             6.444651  \n",
       "18425                       0          1.101173             5.291789  "
      ]
     },
     "execution_count": 258,
     "metadata": {},
     "output_type": "execute_result"
    }
   ],
   "source": [
    "# Feature engineer people per household, improved my score by .5\n",
    "combine = [X_train, X_test]\n",
    "for dataset in combine:\n",
    "    dataset['br_per_household'] = (dataset['total_bedrooms']/dataset['households'])\n",
    "    dataset['rooms_per_household'] = (dataset['total_rooms']/dataset['households'])\n",
    "    \n",
    "X_train = X_train.drop(['ocean_proximity_ISLAND', 'ocean_proximity_NEAR BAY', 'ocean_proximity_NEAR OCEAN', 'ocean_proximity_<1H OCEAN'], axis=1)\n",
    "X_test = X_test.drop(['ocean_proximity_ISLAND', 'ocean_proximity_NEAR BAY', 'ocean_proximity_NEAR OCEAN', 'ocean_proximity_<1H OCEAN'], axis=1)\n",
    "X_train.head()\n"
   ]
  },
  {
   "cell_type": "code",
   "execution_count": 259,
   "metadata": {},
   "outputs": [],
   "source": [
    "# Create income brackets\n",
    "# This hurt my score\n",
    "          \n",
    "# for index, row in X_train.iterrows():\n",
    "#     if(row['median_income'] <= 3):\n",
    "#         X_train.set_value(index,'income_bracket', 1)\n",
    "#     elif(row['median_income'] > 5 and row['median_income'] <= 6):\n",
    "#         X_train.set_value(index,'income_bracket', 2)\n",
    "#     elif(row['median_income'] > 5 and row['median_income'] <= 9):\n",
    "#         X_train.set_value(index,'income_bracket', 3)\n",
    "#     elif(row['median_income'] > 5 and row['median_income'] <= 12):\n",
    "#         X_train.set_value(index,'income_bracket', 4)\n",
    "#     else:\n",
    "#         X_train.set_value(index,'income_bracket', 5)\n",
    "\n",
    "# for index, row in X_test.iterrows():\n",
    "#     if(row['median_income'] <= 3):\n",
    "#         X_test.set_value(index,'income_bracket', 1)\n",
    "#     elif(row['median_income'] > 5 and row['median_income'] <= 6):\n",
    "#         X_test.set_value(index,'income_bracket', 2)\n",
    "#     elif(row['median_income'] > 5 and row['median_income'] <= 9):\n",
    "#         X_test.set_value(index,'income_bracket', 3)\n",
    "#     elif(row['median_income'] > 5 and row['median_income'] <= 12):\n",
    "#         X_test.set_value(index,'income_bracket', 4)\n",
    "#     else:\n",
    "#         X_test.set_value(index,'income_bracket', 5)\n",
    "        \n",
    "# X_test.head()"
   ]
  },
  {
   "cell_type": "code",
   "execution_count": 260,
   "metadata": {
    "collapsed": true
   },
   "outputs": [],
   "source": [
    "# X_train = X_train.drop('median_income', axis=1)\n",
    "# X_test = X_test.drop('median_income', axis=1)"
   ]
  },
  {
   "cell_type": "code",
   "execution_count": 261,
   "metadata": {},
   "outputs": [
    {
     "data": {
      "text/plain": [
       "0.64041137986235086"
      ]
     },
     "execution_count": 261,
     "metadata": {},
     "output_type": "execute_result"
    }
   ],
   "source": [
    "from sklearn.linear_model import LinearRegression #.63842973933662484\n",
    "linear = LinearRegression()\n",
    "linear.fit(X_train, y_train)\n",
    "linear.score(X_test, y_test)"
   ]
  },
  {
   "cell_type": "code",
   "execution_count": 262,
   "metadata": {},
   "outputs": [
    {
     "data": {
      "text/plain": [
       "0.24001373421816585"
      ]
     },
     "execution_count": 262,
     "metadata": {},
     "output_type": "execute_result"
    }
   ],
   "source": [
    "from sklearn.neighbors import KNeighborsRegressor #0.24213483873922781\n",
    "kn = KNeighborsRegressor()\n",
    "kn.fit(X_train, y_train)\n",
    "kn.score(X_test, y_test)"
   ]
  },
  {
   "cell_type": "code",
   "execution_count": 263,
   "metadata": {},
   "outputs": [
    {
     "data": {
      "text/plain": [
       "0.51548699446386848"
      ]
     },
     "execution_count": 263,
     "metadata": {},
     "output_type": "execute_result"
    }
   ],
   "source": [
    "from sklearn.ensemble import AdaBoostRegressor #0.37685610836554639\n",
    "abr = AdaBoostRegressor()\n",
    "abr.fit(X_train, y_train)\n",
    "abr.score(X_test, y_test)"
   ]
  },
  {
   "cell_type": "code",
   "execution_count": 264,
   "metadata": {},
   "outputs": [
    {
     "data": {
      "text/plain": [
       "0.78616950619477"
      ]
     },
     "execution_count": 264,
     "metadata": {},
     "output_type": "execute_result"
    }
   ],
   "source": [
    "from sklearn.ensemble import GradientBoostingRegressor #0.76735969543767302\n",
    "gbr = GradientBoostingRegressor()\n",
    "gbr.fit(X_train, y_train)\n",
    "gbr.score(X_test, y_test)"
   ]
  },
  {
   "cell_type": "code",
   "execution_count": 265,
   "metadata": {},
   "outputs": [
    {
     "data": {
      "text/plain": [
       "0.78655536980961505"
      ]
     },
     "execution_count": 265,
     "metadata": {},
     "output_type": "execute_result"
    }
   ],
   "source": [
    "from sklearn.ensemble import RandomForestRegressor #0.79285589164147563\n",
    "rfr = RandomForestRegressor()\n",
    "rfr.fit(X_train, y_train)\n",
    "rfr.score(X_test, y_test)"
   ]
  },
  {
   "cell_type": "code",
   "execution_count": 266,
   "metadata": {},
   "outputs": [
    {
     "data": {
      "text/plain": [
       "0.78006662571434382"
      ]
     },
     "execution_count": 266,
     "metadata": {},
     "output_type": "execute_result"
    }
   ],
   "source": [
    "from sklearn.ensemble import BaggingRegressor #0.79144004831467507\n",
    "br = BaggingRegressor()\n",
    "br.fit(X_train, y_train)\n",
    "br.score(X_test, y_test)"
   ]
  },
  {
   "cell_type": "code",
   "execution_count": 267,
   "metadata": {},
   "outputs": [
    {
     "data": {
      "text/plain": [
       "0.28119622156852631"
      ]
     },
     "execution_count": 267,
     "metadata": {},
     "output_type": "execute_result"
    }
   ],
   "source": [
    "from sklearn.linear_model import HuberRegressor #0.5929330217791039\n",
    "hr = HuberRegressor()\n",
    "hr.fit(X_train, y_train)\n",
    "hr.score(X_train, y_train)"
   ]
  },
  {
   "cell_type": "code",
   "execution_count": 268,
   "metadata": {
    "collapsed": true
   },
   "outputs": [],
   "source": [
    "# from sklearn.svm import SVC\n",
    "# svc = SVC()\n",
    "# svc.fit(X_train, y_train)\n",
    "# svc.score(X_test, y_test)"
   ]
  },
  {
   "cell_type": "code",
   "execution_count": 269,
   "metadata": {
    "collapsed": true
   },
   "outputs": [],
   "source": [
    "# The initial top 3 models are GradientBoostingRegressor, RandomForestRegressor, and BaggingRegressor"
   ]
  },
  {
   "cell_type": "code",
   "execution_count": 270,
   "metadata": {},
   "outputs": [],
   "source": [
    "# GradientBoostingRegressor 0.82203915589692222\n",
    "from sklearn.model_selection import GridSearchCV\n",
    "\n",
    "# param_grid = {\"n_estimators\": [100, 110, 125],\n",
    "#              \"max_depth\": [5, 10, 15]}\n",
    "\n",
    "# grid_search = GridSearchCV(GradientBoostingRegressor(alpha=.99), param_grid, n_jobs=-1)\n",
    "# grid_search.fit(X_train, y_train)\n",
    "# grid_search.score(X_test, y_test)"
   ]
  },
  {
   "cell_type": "code",
   "execution_count": 271,
   "metadata": {},
   "outputs": [],
   "source": [
    "# grid_search.best_params_"
   ]
  },
  {
   "cell_type": "code",
   "execution_count": 272,
   "metadata": {
    "collapsed": true
   },
   "outputs": [],
   "source": [
    "# {'alpha': 0.99, 'max_depth': 10, n_estimators=100} got me a score of 0.82126867966327466"
   ]
  },
  {
   "cell_type": "code",
   "execution_count": 273,
   "metadata": {},
   "outputs": [],
   "source": [
    "# RandomForestRegressor 0.79994094212026812\n",
    "\n",
    "# param_grid = {\"max_depth\": [100, 110, 115]}\n",
    "\n",
    "# grid_search = GridSearchCV(RandomForestRegressor(max_leaf_nodes=None, n_estimators=10), param_grid, n_jobs=-1)\n",
    "# grid_search.fit(X_train, y_train)\n",
    "# grid_search.score(X_test, y_test)"
   ]
  },
  {
   "cell_type": "code",
   "execution_count": 274,
   "metadata": {},
   "outputs": [],
   "source": [
    "# grid_search.best_params_"
   ]
  },
  {
   "cell_type": "code",
   "execution_count": 275,
   "metadata": {},
   "outputs": [],
   "source": [
    "# BaggingRegressor 0.81569243911264921\n",
    "\n",
    "# param_grid = {\"n_estimators\": [110, 115]}\n",
    "\n",
    "# grid_search = GridSearchCV(BaggingRegressor(), param_grid, n_jobs=-1)\n",
    "# grid_search.fit(X_train, y_train)\n",
    "# grid_search.score(X_test, y_test)"
   ]
  },
  {
   "cell_type": "code",
   "execution_count": 276,
   "metadata": {},
   "outputs": [],
   "source": [
    "# grid_search.best_params_"
   ]
  },
  {
   "cell_type": "code",
   "execution_count": 277,
   "metadata": {},
   "outputs": [],
   "source": [
    "# Doing a grid search it looks like GradientBoostingRegressor and BaggingRegressor were our two best models\n",
    "\n",
    "# Lets do some more searching 0.82769850351711172\n",
    "\n",
    "# param_grid = {\"min_samples_split\": [6,8,10],\n",
    "#              \"min_samples_leaf\": [4,6,8]}\n",
    "\n",
    "# grid_search = GridSearchCV(GradientBoostingRegressor(alpha=.99, max_depth=10, n_estimators=100), param_grid, n_jobs=-1)\n",
    "# grid_search.fit(X_train, y_train)\n",
    "# grid_search.score(X_test, y_test)"
   ]
  },
  {
   "cell_type": "code",
   "execution_count": 278,
   "metadata": {},
   "outputs": [],
   "source": [
    "# grid_search.best_params_"
   ]
  },
  {
   "cell_type": "code",
   "execution_count": 279,
   "metadata": {
    "collapsed": true
   },
   "outputs": [],
   "source": [
    "# {'min_samples_leaf': 8, 'min_samples_split': 6} 0.82769850351711172"
   ]
  },
  {
   "cell_type": "code",
   "execution_count": 280,
   "metadata": {},
   "outputs": [
    {
     "data": {
      "text/plain": [
       "0.81263108492152625"
      ]
     },
     "execution_count": 280,
     "metadata": {},
     "output_type": "execute_result"
    }
   ],
   "source": [
    "# BaggingRegressor 0.81624051089996907\n",
    "\n",
    "param_grid = {}\n",
    "\n",
    "grid_search = GridSearchCV(BaggingRegressor(n_estimators=110, bootstrap_features=True), param_grid, n_jobs=-1)\n",
    "grid_search.fit(X_train, y_train)\n",
    "grid_search.score(X_test, y_test)"
   ]
  },
  {
   "cell_type": "code",
   "execution_count": 281,
   "metadata": {},
   "outputs": [
    {
     "data": {
      "text/plain": [
       "{}"
      ]
     },
     "execution_count": 281,
     "metadata": {},
     "output_type": "execute_result"
    }
   ],
   "source": [
    "grid_search.best_params_"
   ]
  },
  {
   "cell_type": "code",
   "execution_count": 282,
   "metadata": {
    "collapsed": true
   },
   "outputs": [],
   "source": [
    "# {'bootstrap': True, 'bootstrap_features': True} 0.81833486378237474"
   ]
  },
  {
   "cell_type": "code",
   "execution_count": 283,
   "metadata": {},
   "outputs": [
    {
     "data": {
      "text/plain": [
       "0.83211859786794773"
      ]
     },
     "execution_count": 283,
     "metadata": {},
     "output_type": "execute_result"
    }
   ],
   "source": [
    "# GradientBoostingRegressor is the best model with a score of 0.83154332457718538\n",
    "gbr = GradientBoostingRegressor(alpha=.99, max_depth=10, n_estimators=100, min_samples_leaf=8, min_samples_split=6)\n",
    "gbr.fit(X_train, y_train)\n",
    "gbr.score(X_test, y_test)"
   ]
  },
  {
   "cell_type": "code",
   "execution_count": 284,
   "metadata": {},
   "outputs": [
    {
     "name": "stdout",
     "output_type": "stream",
     "text": [
      "[ 0.82883219  0.8286115   0.81645548]\n"
     ]
    }
   ],
   "source": [
    "from sklearn.model_selection import cross_val_score\n",
    "print(cross_val_score(GradientBoostingRegressor(alpha=.99, max_depth=10, n_estimators=100, min_samples_leaf=8, min_samples_split=6),X_train, y_train))"
   ]
  },
  {
   "cell_type": "code",
   "execution_count": 285,
   "metadata": {},
   "outputs": [],
   "source": [
    "feature_importance_df = pd.DataFrame({\"importances\": gbr.feature_importances_, \"feature\": X_train.columns.values})"
   ]
  },
  {
   "cell_type": "code",
   "execution_count": 286,
   "metadata": {},
   "outputs": [
    {
     "data": {
      "text/html": [
       "<div>\n",
       "<style>\n",
       "    .dataframe thead tr:only-child th {\n",
       "        text-align: right;\n",
       "    }\n",
       "\n",
       "    .dataframe thead th {\n",
       "        text-align: left;\n",
       "    }\n",
       "\n",
       "    .dataframe tbody tr th {\n",
       "        vertical-align: top;\n",
       "    }\n",
       "</style>\n",
       "<table border=\"1\" class=\"dataframe\">\n",
       "  <thead>\n",
       "    <tr style=\"text-align: right;\">\n",
       "      <th></th>\n",
       "      <th>feature</th>\n",
       "      <th>importances</th>\n",
       "    </tr>\n",
       "  </thead>\n",
       "  <tbody>\n",
       "    <tr>\n",
       "      <th>6</th>\n",
       "      <td>households</td>\n",
       "      <td>0.032098</td>\n",
       "    </tr>\n",
       "    <tr>\n",
       "      <th>4</th>\n",
       "      <td>total_bedrooms</td>\n",
       "      <td>0.032272</td>\n",
       "    </tr>\n",
       "    <tr>\n",
       "      <th>9</th>\n",
       "      <td>ocean_proximity_INLAND</td>\n",
       "      <td>0.035230</td>\n",
       "    </tr>\n",
       "    <tr>\n",
       "      <th>5</th>\n",
       "      <td>population</td>\n",
       "      <td>0.047715</td>\n",
       "    </tr>\n",
       "    <tr>\n",
       "      <th>3</th>\n",
       "      <td>total_rooms</td>\n",
       "      <td>0.049195</td>\n",
       "    </tr>\n",
       "    <tr>\n",
       "      <th>2</th>\n",
       "      <td>housing_median_age</td>\n",
       "      <td>0.063567</td>\n",
       "    </tr>\n",
       "    <tr>\n",
       "      <th>10</th>\n",
       "      <td>br_per_household</td>\n",
       "      <td>0.079217</td>\n",
       "    </tr>\n",
       "    <tr>\n",
       "      <th>8</th>\n",
       "      <td>ppl_per_household</td>\n",
       "      <td>0.099296</td>\n",
       "    </tr>\n",
       "    <tr>\n",
       "      <th>11</th>\n",
       "      <td>rooms_per_household</td>\n",
       "      <td>0.115403</td>\n",
       "    </tr>\n",
       "    <tr>\n",
       "      <th>0</th>\n",
       "      <td>longitude</td>\n",
       "      <td>0.125824</td>\n",
       "    </tr>\n",
       "    <tr>\n",
       "      <th>1</th>\n",
       "      <td>latitude</td>\n",
       "      <td>0.126222</td>\n",
       "    </tr>\n",
       "    <tr>\n",
       "      <th>7</th>\n",
       "      <td>median_income</td>\n",
       "      <td>0.193962</td>\n",
       "    </tr>\n",
       "  </tbody>\n",
       "</table>\n",
       "</div>"
      ],
      "text/plain": [
       "                   feature  importances\n",
       "6               households     0.032098\n",
       "4           total_bedrooms     0.032272\n",
       "9   ocean_proximity_INLAND     0.035230\n",
       "5               population     0.047715\n",
       "3              total_rooms     0.049195\n",
       "2       housing_median_age     0.063567\n",
       "10        br_per_household     0.079217\n",
       "8        ppl_per_household     0.099296\n",
       "11     rooms_per_household     0.115403\n",
       "0                longitude     0.125824\n",
       "1                 latitude     0.126222\n",
       "7            median_income     0.193962"
      ]
     },
     "execution_count": 286,
     "metadata": {},
     "output_type": "execute_result"
    }
   ],
   "source": [
    "feature_importance_df.sort_values(by=['importances'])"
   ]
  },
  {
   "cell_type": "code",
   "execution_count": null,
   "metadata": {},
   "outputs": [],
   "source": []
  },
  {
   "cell_type": "code",
   "execution_count": null,
   "metadata": {},
   "outputs": [],
   "source": []
  },
  {
   "cell_type": "code",
   "execution_count": null,
   "metadata": {
    "collapsed": true
   },
   "outputs": [],
   "source": []
  }
 ],
 "metadata": {
  "kernelspec": {
   "display_name": "Python 3",
   "language": "python",
   "name": "python3"
  },
  "language_info": {
   "codemirror_mode": {
    "name": "ipython",
    "version": 3
   },
   "file_extension": ".py",
   "mimetype": "text/x-python",
   "name": "python",
   "nbconvert_exporter": "python",
   "pygments_lexer": "ipython3",
   "version": "3.6.3"
  }
 },
 "nbformat": 4,
 "nbformat_minor": 2
}
